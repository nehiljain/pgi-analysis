{
 "metadata": {
  "name": "",
  "signature": "sha256:7a00bf0623a0c52714a6abbd65b695721396edc630154166ffb4e3bc889f4532"
 },
 "nbformat": 3,
 "nbformat_minor": 0,
 "worksheets": []
}